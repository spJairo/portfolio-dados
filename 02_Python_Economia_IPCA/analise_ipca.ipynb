{
 "cells": [
  {
   "cell_type": "markdown",
   "metadata": {},
   "source": [
    "# Análise da Inflação no Brasil (2015–2024)\n",
    "Dados do IPCA com foco em tendências anuais de inflação."
   ]
  },
  {
   "cell_type": "code",
   "execution_count": null,
   "metadata": {},
   "outputs": [],
   "source": [
    "import pandas as pd\n",
    "import matplotlib.pyplot as plt\n",
    "import seaborn as sns\n",
    "\n",
    "df = pd.read_csv('ipca_brasil.csv')\n",
    "plt.figure(figsize=(10,6))\n",
    "sns.lineplot(data=df, x='Ano', y='Inflação (%)', marker='o')\n",
    "plt.title('Inflação Anual no Brasil (IPCA)')\n",
    "plt.ylabel('Inflação (%)')\n",
    "plt.grid(True)\n",
    "plt.show()"
   ]
  }
 ],
 "metadata": {
  "kernelspec": {
   "display_name": "Python 3",
   "language": "python",
   "name": "python3"
  },
  "language_info": {
   "name": "python",
   "version": "3.x"
  }
 },
 "nbformat": 4,
 "nbformat_minor": 2
}